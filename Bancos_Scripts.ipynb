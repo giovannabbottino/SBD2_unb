{
  "nbformat": 4,
  "nbformat_minor": 0,
  "metadata": {
    "colab": {
      "name": "Bancos-Scripts",
      "provenance": [],
      "collapsed_sections": [],
      "authorship_tag": "ABX9TyPcBlZeX68FiXTUO/4zhqbT",
      "include_colab_link": true
    },
    "kernelspec": {
      "name": "python3",
      "display_name": "Python 3"
    },
    "language_info": {
      "name": "python"
    },
    "accelerator": "GPU"
  },
  "cells": [
    {
      "cell_type": "markdown",
      "metadata": {
        "id": "view-in-github",
        "colab_type": "text"
      },
      "source": [
        "<a href=\"https://colab.research.google.com/github/giovannabbottino/SBD2/blob/main/Bancos_Scripts.ipynb\" target=\"_parent\"><img src=\"https://colab.research.google.com/assets/colab-badge.svg\" alt=\"Open In Colab\"/></a>"
      ]
    },
    {
      "cell_type": "code",
      "metadata": {
        "id": "rsdRyULKRCnu"
      },
      "source": [
        "import pandas\n",
        "import os\n",
        "import datetime\n",
        "from tqdm import tqdm\n",
        "import zipfile"
      ],
      "execution_count": null,
      "outputs": []
    },
    {
      "cell_type": "code",
      "metadata": {
        "id": "TB0XPY-mjDL_"
      },
      "source": [
        "class Gerador:\n",
        "  tipo_script = ''\n",
        "\n",
        "  def __init__(self, base_dados, autores, tabelas, alteracoes):\n",
        "    '''\n",
        "    base_dados = \"nome_base\"\n",
        "    autores = [autor1, autor2]\n",
        "    tabelas = [tabela1, tabela2]\n",
        "    alreacoes = {data: alteracao}\n",
        "    '''\n",
        "    self.base_dados = base_dados\n",
        "    self.autores = autores\n",
        "    self.tabelas = tabelas\n",
        "    self.alteracoes = alteracoes\n",
        "\n",
        "  def cabecalho(self):\n",
        "    self.script = '-- ------        TRABALHO FINAL ---------- --\\n\\\n",
        "--                                                      --\\n\\\n",
        "--                    SCRIPT DE %s           --\\n\\\n",
        "--                                                      --\\n\\\n",
        "-- Data Criacao ...........: %s--\\n\\\n",
        "-- Autor(es) ..............: %s--\\n\\\n",
        "-- Banco de Dados .........: MySQL                      --\\n\\\n",
        "-- Base de Dados (nome) ...: %s--\\n\\\n",
        "--                                                      --\\n\\\n",
        "-- Ultimas Alterações                                   --\\n\\\n",
        "-- \t\t%s \t\t--\\n\\\n",
        "--                                                      --\\n\\\n",
        "-- PROJETO => 1 Base de Dados                           --\\n\\\n",
        "--         => %s Tabelas                                 --\\n\\\n",
        "--                                                      --\\n\\\n",
        "-- ---------------------------------------------------- --\\n\\\n",
        "-- BASE DE DADOS\\n\\\n",
        "%s\\n\\\n",
        "\\n\\\n",
        "USE %s;\\n\\\n",
        "\\n\\\n",
        "-- TABELAS\\n' % (\n",
        "    self.tipo_script, \n",
        "    datetime.datetime.now().strftime(\"%d/%m/%Y\"),\n",
        "    '--\\n-- \t\t\t'.join(self.autores),\n",
        "    self.base_dados,\n",
        "    (((((str(self.alteracoes)).replace(':', '=>')).replace(',', '--\\n-- \t\t')).replace('{','')).replace('}','')).replace(\"'\",''),\n",
        "    str(len(self.tabelas)), \n",
        "    'CREATE DATABASE\\nIF NOT EXISTS %s;\\n' % (self.base_dados) if self.tipo_script == 'CRIACAO (DDL)' else '',\n",
        "    self.base_dados)\n",
        "\n",
        "  def salva(self, arquivo):\n",
        "    f = open(arquivo, \"a\")\n",
        "    f.write(self.script)\n",
        "    f.close()\n",
        "\n",
        "  def salva_le(self, arquivo):\n",
        "    f = open(arquivo, \"w\")\n",
        "    f.write(self.script)\n",
        "    f.close()\n",
        "\n",
        "    f = open(arquivo, \"r\")\n",
        "    print(f.read())"
      ],
      "execution_count": null,
      "outputs": []
    },
    {
      "cell_type": "code",
      "metadata": {
        "id": "U75A74ostmQb"
      },
      "source": [
        "class Fisico(Gerador):\n",
        "  tipo_script = 'CRIACAO (DDL)'\n",
        "\n",
        "  def insere(self, df, nome_tabela):\n",
        "    self.script += '\\nCREATE TABLE %s (\\n' % (nome_tabela.replace(\" \", \"_\"))\n",
        "\n",
        "    for i, type_ in enumerate(df.dtypes):      \n",
        "      self.script += '  %s %s NOT NULL,\\n' % (\n",
        "          (df.columns.tolist())[i], \n",
        "          ((str(type_).replace(\"float64\", \"FLOAT\")).replace(\"int64\", \"INT\")).replace(\"object\", \"VARCHAR(20)\"))\n",
        "      \n",
        "    self.script = self.script[:-2] + ') ENGINE InnoDB;\\n'"
      ],
      "execution_count": null,
      "outputs": []
    },
    {
      "cell_type": "code",
      "metadata": {
        "id": "xlrwQlllvmNc"
      },
      "source": [
        "class Apaga(Gerador):\n",
        "  tipo_script = 'APAGA (DML)  '\n",
        "\n",
        "  def insere(self):\n",
        "    self.script += 'DROP TABLE %s;\\n' % (';\\nDROP TABLE '.join(self.tabelas))"
      ],
      "execution_count": null,
      "outputs": []
    },
    {
      "cell_type": "code",
      "metadata": {
        "id": "ffwke864xtfN"
      },
      "source": [
        "class Popula(Gerador):\n",
        "  tipo_script = 'POPULAR (DML)'\n",
        "\n",
        "  def insere(self, df, nome_tabela, arquivo):\n",
        "    self.script += '\\nINSERT INTO  %s (%s) VALUES\\n' % (nome_tabela.replace(\" \", \"_\"), ', '.join(df.columns.tolist()))\n",
        "\n",
        "    for index, row in tqdm(df.iterrows(), total=df[df.columns[0]].count()):\n",
        "      self.script += '('\n",
        "      for i, r in enumerate(row):\n",
        "        if isinstance(r, str):\n",
        "          r = \"'%s'\" % (r)\n",
        "        if r == \"NaN\" or r == None or r == \"nan\":\n",
        "          r = 'NULL'\n",
        "\n",
        "        r = str(r)\n",
        "        self.script += r + ', '\n",
        "\n",
        "      self.script += r + '),\\n'\n",
        "      self.salva_popula(arquivo)\n",
        "    self.script = self.script[:-2] + ';\\n'\n",
        "\n",
        "  def salva_popula(self, arquivo):\n",
        "    f = open(arquivo, \"w\")\n",
        "    f.write(self.script)\n",
        "    f.close()\n"
      ],
      "execution_count": null,
      "outputs": []
    },
    {
      "cell_type": "code",
      "metadata": {
        "id": "outAYPhhxC9w"
      },
      "source": [
        "class MER(Gerador):\n",
        "  index = 0\n",
        "  def __init__(self, tabelas):\n",
        "    '''\n",
        "    tabelas = [tabela1, tabela2]\n",
        "    '''\n",
        "    self.tabelas = tabelas\n",
        "\n",
        "  def cabecalho(self):\n",
        "    self.script = 'Modelo Entidade-Relacionamento (ME-R)\\n\\\n",
        "Entidades\\n\\\n",
        "%s\\n\\\n",
        "Atributos\\n' % ('\\n'.join(self.tabelas) )\n",
        "\n",
        "  def insere(self, df):\n",
        "    self.script += '%s (%s)\\n' % (self.tabelas[self.index], ', '.join([c for c in df.columns.tolist()]))\n",
        "    self.index += 1"
      ],
      "execution_count": null,
      "outputs": []
    },
    {
      "cell_type": "code",
      "metadata": {
        "id": "YiYPkZghAC0r"
      },
      "source": [
        "a_directory = \"tabelas\"\n",
        "\n",
        "base_dados = 'teste'\n",
        "autores = ['Stefano Leone', 'Giovanna Borges Bottino', 'Victor Amaral Cerqueira']\n",
        "\n",
        "tabelas = [(name.replace(\".csv\", \"\")).replace(\" \", \"_\") for name in os.listdir(a_directory)]\n",
        "\n",
        "alteracoes = {datetime.datetime.now().strftime(\"%d/%m/%Y\"): 'Transforma csv em script'}\n",
        "fisico = Fisico(base_dados, autores, tabelas, alteracoes)\n",
        "fisico.cabecalho()\n",
        "\n",
        "alteracoes = {datetime.datetime.now().strftime(\"%d/%m/%Y\"):'Adiciona drop das tabelas' }\n",
        "apaga = Apaga(base_dados, autores, tabelas, alteracoes)\n",
        "apaga.cabecalho()\n",
        "apaga.insere()\n",
        "apaga.salva_le('apaga.sql')\n",
        "\n",
        "alteracoes = {datetime.datetime.now().strftime(\"%d/%m/%Y\"):'Popula tabelas' }\n",
        "popula = Popula(base_dados, autores, tabelas, alteracoes)\n",
        "popula.cabecalho()\n",
        "\n",
        "mer = MER(tabelas)\n",
        "mer.cabecalho()\n",
        "\n",
        "for i, filename in tqdm(os.listdir(a_directory)):\n",
        "  filepath = os.path.join(a_directory, filename)\n",
        "\n",
        "  df = pandas.read_csv(filepath, engine='python', encoding='utf-8', error_bad_lines=False)\n",
        "  popula.insere(df, filename.replace(\".csv\", \"\"), 'popula.sql')\n",
        "  fisico.insere(df, filename.replace(\".csv\", \"\"))\n",
        "  mer.insere(df)\n",
        "\n",
        "fisico.salva_le('fisico.sql')\n",
        "popula.salva_le('popula.sql')\n",
        "\n",
        "mer.salva_le('mer.txt')"
      ],
      "execution_count": null,
      "outputs": []
    },
    {
      "cell_type": "code",
      "metadata": {
        "id": "hr77BIYeMS9T"
      },
      "source": [
        "import pandas as pd\n",
        "\n",
        "filename = '/content/IMDb names.csv'\n",
        "df = pd.read_csv(filename, nrows=180000)\n",
        "\n",
        "df.to_csv(filename)"
      ],
      "execution_count": null,
      "outputs": []
    }
  ]
}